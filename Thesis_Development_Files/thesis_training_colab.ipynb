{
  "cells": [
    {
      "cell_type": "markdown",
      "metadata": {},
      "source": [
        "# A MODIFIED HIFI-GAN VOCODER USING ODCONV AND GRC FOR EXPRESSIVE VOICE CLONING IN STREAMSPEECH'S SIMULTANEOUS TRANSLATION\n",
        "\n",
        "**Professional Training System with Real CVSS-T Dataset**\n",
        "\n",
        "This notebook implements the complete thesis system with:\n",
        "- Real CVSS-T dataset integration\n",
        "- Real ECAPA-TDNN speaker embeddings  \n",
        "- Real Emotion2Vec emotion embeddings\n",
        "- Professional Modified HiFi-GAN training\n",
        "- Voice cloning validation\n",
        "\n",
        "**Requirements:**\n",
        "- Google Colab Pro (for better GPU)\n",
        "- Your CVSS-T dataset (10k Spanish + 10k English samples)\n",
        "- All training will be done here, no local processing needed\n"
      ]
    },
    {
      "cell_type": "code",
      "execution_count": null,
      "metadata": {},
      "outputs": [],
      "source": [
        "# Install required packages for Google Colab\n",
        "!pip install torch torchvision torchaudio --index-url https://download.pytorch.org/whl/cu118\n",
        "!pip install transformers speechbrain torch-audiomentations soundfile librosa\n",
        "!pip install wandb  # For training monitoring\n",
        "\n",
        "import torch\n",
        "import torch.nn as nn\n",
        "import torch.nn.functional as F\n",
        "import torch.optim as optim\n",
        "from torch.utils.data import DataLoader, Dataset\n",
        "import torchaudio\n",
        "import torchaudio.transforms as T\n",
        "import numpy as np\n",
        "import os\n",
        "import json\n",
        "import soundfile as sf\n",
        "from pathlib import Path\n",
        "from tqdm import tqdm\n",
        "from typing import Dict, List, Tuple, Optional\n",
        "from dataclasses import dataclass\n",
        "import warnings\n",
        "warnings.filterwarnings(\"ignore\")\n",
        "\n",
        "print(f\"PyTorch version: {torch.__version__}\")\n",
        "print(f\"CUDA available: {torch.cuda.is_available()}\")\n",
        "if torch.cuda.is_available():\n",
        "    print(f\"GPU: {torch.cuda.get_device_name(0)}\")\n",
        "    print(f\"GPU Memory: {torch.cuda.get_device_properties(0).total_memory / 1024**3:.1f} GB\")\n"
      ]
    },
    {
      "cell_type": "code",
      "execution_count": null,
      "metadata": {},
      "outputs": [],
      "source": [
        "# Upload your CVSS-T dataset\n",
        "from google.colab import files\n",
        "import zipfile\n",
        "\n",
        "print(\"Please upload your CVSS-T dataset as a ZIP file:\")\n",
        "uploaded = files.upload()\n",
        "\n",
        "# Extract the dataset\n",
        "for filename in uploaded.keys():\n",
        "    if filename.endswith('.zip'):\n",
        "        print(f\"Extracting {filename}...\")\n",
        "        with zipfile.ZipFile(filename, 'r') as zip_ref:\n",
        "            zip_ref.extractall('.')\n",
        "        print(f\"Extracted {filename} successfully!\")\n",
        "\n",
        "# List extracted contents\n",
        "!find . -name \"*.wav\" | head -10\n"
      ]
    }
  ],
  "metadata": {
    "language_info": {
      "name": "python"
    }
  },
  "nbformat": 4,
  "nbformat_minor": 2
}
