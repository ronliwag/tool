{
  "cells": [
    {
      "cell_type": "markdown",
      "metadata": {},
      "source": [
        "# Modified HiFi-GAN Training - Colab\n",
        "\n",
        "**Purpose**: Train Modified HiFi-GAN with ODConv, GRC, and FiLM\n",
        "**GPU**: L4 (to save compute units)\n",
        "**Storage**: Google Drive\n",
        "\n",
        "This notebook handles:\n",
        "- Model training with real CVSS dataset\n",
        "- Best weights generation (.pth files)\n",
        "- Training progress monitoring\n",
        "- Performance metrics\n"
      ]
    },
    {
      "cell_type": "code",
      "execution_count": null,
      "metadata": {},
      "outputs": [],
      "source": [
        "# Mount Google Drive\n",
        "from google.colab import drive\n",
        "drive.mount('/content/drive')\n",
        "\n",
        "# Set up paths\n",
        "base_path = '/content/drive/MyDrive/Thesis_Training'\n",
        "dataset_path = f'{base_path}/datasets/professional_cvss_dataset'\n",
        "models_path = f'{base_path}/models'\n",
        "results_path = f'{base_path}/results'\n",
        "\n",
        "print(\"Google Drive mounted successfully!\")\n",
        "print(f\"Dataset path: {dataset_path}\")\n",
        "print(f\"Models path: {models_path}\")\n",
        "print(f\"Results path: {results_path}\")\n"
      ]
    }
  ],
  "metadata": {
    "language_info": {
      "name": "python"
    }
  },
  "nbformat": 4,
  "nbformat_minor": 2
}
