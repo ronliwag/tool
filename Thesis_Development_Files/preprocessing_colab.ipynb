{
  "cells": [
    {
      "cell_type": "markdown",
      "metadata": {},
      "source": [
        "# CVSS Dataset Preprocessing - Colab\n",
        "\n",
        "**Purpose**: Preprocess CVSS-T dataset for training\n",
        "**GPU**: L4 (to save compute units)\n",
        "**Storage**: Google Drive\n",
        "\n",
        "This notebook handles:\n",
        "- Dataset upload and extraction\n",
        "- Metadata creation\n",
        "- Audio preprocessing\n",
        "- Google Drive storage setup\n"
      ]
    },
    {
      "cell_type": "code",
      "execution_count": null,
      "metadata": {},
      "outputs": [],
      "source": [
        "# Mount Google Drive\n",
        "from google.colab import drive\n",
        "drive.mount('/content/drive')\n",
        "\n",
        "# Create directory structure\n",
        "import os\n",
        "base_path = '/content/drive/MyDrive/Thesis_Training'\n",
        "os.makedirs(f'{base_path}/datasets', exist_ok=True)\n",
        "os.makedirs(f'{base_path}/models', exist_ok=True)\n",
        "os.makedirs(f'{base_path}/results', exist_ok=True)\n",
        "\n",
        "print(\"Google Drive mounted successfully!\")\n",
        "print(f\"Base path: {base_path}\")\n"
      ]
    },
    {
      "cell_type": "code",
      "execution_count": null,
      "metadata": {},
      "outputs": [],
      "source": [
        "# Install required packages\n",
        "!pip install torch torchvision torchaudio --index-url https://download.pytorch.org/whl/cu118\n",
        "!pip install transformers soundfile librosa\n",
        "\n",
        "import torch\n",
        "import torchaudio\n",
        "import torchaudio.transforms as T\n",
        "import numpy as np\n",
        "import json\n",
        "import soundfile as sf\n",
        "from pathlib import Path\n",
        "from tqdm import tqdm\n",
        "\n",
        "print(f\"PyTorch version: {torch.__version__}\")\n",
        "print(f\"CUDA available: {torch.cuda.is_available()}\")\n"
      ]
    },
    {
      "cell_type": "code",
      "execution_count": null,
      "metadata": {},
      "outputs": [],
      "source": [
        "# Upload and extract CVSS dataset\n",
        "from google.colab import files\n",
        "import zipfile\n",
        "\n",
        "print(\"Please upload your cvss_dataset.zip file:\")\n",
        "uploaded = files.upload()\n",
        "\n",
        "# Extract the dataset\n",
        "for filename in uploaded.keys():\n",
        "    if filename.endswith('.zip'):\n",
        "        print(f\"Extracting {filename}...\")\n",
        "        with zipfile.ZipFile(filename, 'r') as zip_ref:\n",
        "            zip_ref.extractall('.')\n",
        "        print(f\"Extracted {filename} successfully!\")\n",
        "\n",
        "# Move to Google Drive\n",
        "import shutil\n",
        "if os.path.exists('professional_cvss_dataset'):\n",
        "    shutil.move('professional_cvss_dataset', f'{base_path}/datasets/')\n",
        "    print(\"Dataset moved to Google Drive!\")\n",
        "\n",
        "# List extracted contents\n",
        "!find {base_path}/datasets -name \"*.wav\" | head -10\n"
      ]
    }
  ],
  "metadata": {
    "language_info": {
      "name": "python"
    }
  },
  "nbformat": 4,
  "nbformat_minor": 2
}
